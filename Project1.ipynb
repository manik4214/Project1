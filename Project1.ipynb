{
  "metadata": {
    "kernelspec": {
      "language": "python",
      "display_name": "Python 3",
      "name": "python3"
    },
    "language_info": {
      "name": "python",
      "version": "3.10.13",
      "mimetype": "text/x-python",
      "codemirror_mode": {
        "name": "ipython",
        "version": 3
      },
      "pygments_lexer": "ipython3",
      "nbconvert_exporter": "python",
      "file_extension": ".py"
    },
    "kaggle": {
      "accelerator": "none",
      "dataSources": [
        {
          "sourceId": 2157,
          "sourceType": "datasetVersion",
          "datasetId": 18
        }
      ],
      "dockerImageVersionId": 30732,
      "isInternetEnabled": false,
      "language": "python",
      "sourceType": "notebook",
      "isGpuEnabled": false
    },
    "colab": {
      "name": "Project1",
      "provenance": [],
      "include_colab_link": true
    }
  },
  "nbformat_minor": 0,
  "nbformat": 4,
  "cells": [
    {
      "cell_type": "markdown",
      "metadata": {
        "id": "view-in-github",
        "colab_type": "text"
      },
      "source": [
        "<a href=\"https://colab.research.google.com/github/manik4214/Project1/blob/main/Project1.ipynb\" target=\"_parent\"><img src=\"https://colab.research.google.com/assets/colab-badge.svg\" alt=\"Open In Colab\"/></a>"
      ]
    },
    {
      "source": [
        "\n",
        "# IMPORTANT: RUN THIS CELL IN ORDER TO IMPORT YOUR KAGGLE DATA SOURCES\n",
        "# TO THE CORRECT LOCATION (/kaggle/input) IN YOUR NOTEBOOK,\n",
        "# THEN FEEL FREE TO DELETE THIS CELL.\n",
        "# NOTE: THIS NOTEBOOK ENVIRONMENT DIFFERS FROM KAGGLE'S PYTHON\n",
        "# ENVIRONMENT SO THERE MAY BE MISSING LIBRARIES USED BY YOUR\n",
        "# NOTEBOOK.\n",
        "\n",
        "import os\n",
        "import sys\n",
        "from tempfile import NamedTemporaryFile\n",
        "from urllib.request import urlopen\n",
        "from urllib.parse import unquote, urlparse\n",
        "from urllib.error import HTTPError\n",
        "from zipfile import ZipFile\n",
        "import tarfile\n",
        "import shutil\n",
        "\n",
        "CHUNK_SIZE = 40960\n",
        "DATA_SOURCE_MAPPING = 'amazon-fine-food-reviews:https%3A%2F%2Fstorage.googleapis.com%2Fkaggle-data-sets%2F18%2F2157%2Fbundle%2Farchive.zip%3FX-Goog-Algorithm%3DGOOG4-RSA-SHA256%26X-Goog-Credential%3Dgcp-kaggle-com%2540kaggle-161607.iam.gserviceaccount.com%252F20240701%252Fauto%252Fstorage%252Fgoog4_request%26X-Goog-Date%3D20240701T164859Z%26X-Goog-Expires%3D259200%26X-Goog-SignedHeaders%3Dhost%26X-Goog-Signature%3D53a733183535e0814eb44efc31862d8f2c8967835c68133818279601a17dfb5f65088d353b24f2ac46cb1839f48a1c660d46e96b273103676600d027a19e4856724ccf040c13235c36b2e517067334536084c4c901fb820971f736e2edff3568474521eeb4166f7430165ad3109b7a2112035d8b80571d59c3673d19168fbc8bc042bf2ebd2543bf4eb57b71a869f2ee2ccd09958259589138c631dfb957ce5dfae89f436efb6a1b92fa001d6becda37955ed15211dc7d2366a3e0924a173b1fb6f5b3e7e69ae732ca1d251ecf42a8855177f0b9951fa901c0de8bc2d7b6f64f8bb36bba0eda1cd7c737d36309f65977bcdf8a428645894a050861b30758cb94'\n",
        "\n",
        "KAGGLE_INPUT_PATH='/kaggle/input'\n",
        "KAGGLE_WORKING_PATH='/kaggle/working'\n",
        "KAGGLE_SYMLINK='kaggle'\n",
        "\n",
        "!umount /kaggle/input/ 2> /dev/null\n",
        "shutil.rmtree('/kaggle/input', ignore_errors=True)\n",
        "os.makedirs(KAGGLE_INPUT_PATH, 0o777, exist_ok=True)\n",
        "os.makedirs(KAGGLE_WORKING_PATH, 0o777, exist_ok=True)\n",
        "\n",
        "try:\n",
        "  os.symlink(KAGGLE_INPUT_PATH, os.path.join(\"..\", 'input'), target_is_directory=True)\n",
        "except FileExistsError:\n",
        "  pass\n",
        "try:\n",
        "  os.symlink(KAGGLE_WORKING_PATH, os.path.join(\"..\", 'working'), target_is_directory=True)\n",
        "except FileExistsError:\n",
        "  pass\n",
        "\n",
        "for data_source_mapping in DATA_SOURCE_MAPPING.split(','):\n",
        "    directory, download_url_encoded = data_source_mapping.split(':')\n",
        "    download_url = unquote(download_url_encoded)\n",
        "    filename = urlparse(download_url).path\n",
        "    destination_path = os.path.join(KAGGLE_INPUT_PATH, directory)\n",
        "    try:\n",
        "        with urlopen(download_url) as fileres, NamedTemporaryFile() as tfile:\n",
        "            total_length = fileres.headers['content-length']\n",
        "            print(f'Downloading {directory}, {total_length} bytes compressed')\n",
        "            dl = 0\n",
        "            data = fileres.read(CHUNK_SIZE)\n",
        "            while len(data) > 0:\n",
        "                dl += len(data)\n",
        "                tfile.write(data)\n",
        "                done = int(50 * dl / int(total_length))\n",
        "                sys.stdout.write(f\"\\r[{'=' * done}{' ' * (50-done)}] {dl} bytes downloaded\")\n",
        "                sys.stdout.flush()\n",
        "                data = fileres.read(CHUNK_SIZE)\n",
        "            if filename.endswith('.zip'):\n",
        "              with ZipFile(tfile) as zfile:\n",
        "                zfile.extractall(destination_path)\n",
        "            else:\n",
        "              with tarfile.open(tfile.name) as tarfile:\n",
        "                tarfile.extractall(destination_path)\n",
        "            print(f'\\nDownloaded and uncompressed: {directory}')\n",
        "    except HTTPError as e:\n",
        "        print(f'Failed to load (likely expired) {download_url} to path {destination_path}')\n",
        "        continue\n",
        "    except OSError as e:\n",
        "        print(f'Failed to load {download_url} to path {destination_path}')\n",
        "        continue\n",
        "\n",
        "print('Data source import complete.')\n"
      ],
      "metadata": {
        "id": "ajV9zVSpMyzD"
      },
      "cell_type": "code",
      "outputs": [],
      "execution_count": null
    },
    {
      "cell_type": "code",
      "source": [
        "import pandas as pd\n",
        "import numpy as np\n",
        "import matplotlib.pyplot as plt\n",
        "import seaborn as sns\n",
        "\n",
        "plt.style.use('ggplot')\n",
        "\n",
        "import nltk"
      ],
      "metadata": {
        "_uuid": "8f2839f25d086af736a60e9eeb907d3b93b6e0e5",
        "_cell_guid": "b1076dfc-b9ad-4769-8c92-a6c4dae69d19",
        "execution": {
          "iopub.status.busy": "2024-07-01T16:04:44.951753Z",
          "iopub.execute_input": "2024-07-01T16:04:44.952294Z",
          "iopub.status.idle": "2024-07-01T16:04:49.231174Z",
          "shell.execute_reply.started": "2024-07-01T16:04:44.952254Z",
          "shell.execute_reply": "2024-07-01T16:04:49.229566Z"
        },
        "trusted": true,
        "id": "wTFWb11UMyzJ"
      },
      "execution_count": null,
      "outputs": []
    },
    {
      "cell_type": "code",
      "source": [
        "# Read in data\n",
        "df = pd.read_csv('../input/amazon-fine-food-reviews/Reviews.csv')\n",
        "print(df.shape)\n",
        "df = df.head(500)\n",
        "print(df.shape)"
      ],
      "metadata": {
        "execution": {
          "iopub.status.busy": "2024-07-01T16:10:39.133383Z",
          "iopub.execute_input": "2024-07-01T16:10:39.134265Z",
          "iopub.status.idle": "2024-07-01T16:10:47.783972Z",
          "shell.execute_reply.started": "2024-07-01T16:10:39.134221Z",
          "shell.execute_reply": "2024-07-01T16:10:47.782443Z"
        },
        "trusted": true,
        "id": "HbkQpz_jMyzK",
        "outputId": "f9a8ca7a-c878-445b-b7cf-46f968c917d0"
      },
      "execution_count": null,
      "outputs": [
        {
          "name": "stdout",
          "text": "(568454, 10)\n(500, 10)\n",
          "output_type": "stream"
        }
      ]
    },
    {
      "cell_type": "code",
      "source": [
        "df.head()"
      ],
      "metadata": {
        "execution": {
          "iopub.status.busy": "2024-07-01T16:11:07.340361Z",
          "iopub.execute_input": "2024-07-01T16:11:07.340845Z",
          "iopub.status.idle": "2024-07-01T16:11:07.372953Z",
          "shell.execute_reply.started": "2024-07-01T16:11:07.340792Z",
          "shell.execute_reply": "2024-07-01T16:11:07.371565Z"
        },
        "trusted": true,
        "id": "KDMzL6PKMyzL",
        "outputId": "5fe5dc2c-f41a-4dbb-a64d-a9bc5c8aa2f0"
      },
      "execution_count": null,
      "outputs": [
        {
          "execution_count": 3,
          "output_type": "execute_result",
          "data": {
            "text/plain": "   Id   ProductId          UserId                      ProfileName  \\\n0   1  B001E4KFG0  A3SGXH7AUHU8GW                       delmartian   \n1   2  B00813GRG4  A1D87F6ZCVE5NK                           dll pa   \n2   3  B000LQOCH0   ABXLMWJIXXAIN  Natalia Corres \"Natalia Corres\"   \n3   4  B000UA0QIQ  A395BORC6FGVXV                             Karl   \n4   5  B006K2ZZ7K  A1UQRSCLF8GW1T    Michael D. Bigham \"M. Wassir\"   \n\n   HelpfulnessNumerator  HelpfulnessDenominator  Score        Time  \\\n0                     1                       1      5  1303862400   \n1                     0                       0      1  1346976000   \n2                     1                       1      4  1219017600   \n3                     3                       3      2  1307923200   \n4                     0                       0      5  1350777600   \n\n                 Summary                                               Text  \n0  Good Quality Dog Food  I have bought several of the Vitality canned d...  \n1      Not as Advertised  Product arrived labeled as Jumbo Salted Peanut...  \n2  \"Delight\" says it all  This is a confection that has been around a fe...  \n3         Cough Medicine  If you are looking for the secret ingredient i...  \n4            Great taffy  Great taffy at a great price.  There was a wid...  ",
            "text/html": "<div>\n<style scoped>\n    .dataframe tbody tr th:only-of-type {\n        vertical-align: middle;\n    }\n\n    .dataframe tbody tr th {\n        vertical-align: top;\n    }\n\n    .dataframe thead th {\n        text-align: right;\n    }\n</style>\n<table border=\"1\" class=\"dataframe\">\n  <thead>\n    <tr style=\"text-align: right;\">\n      <th></th>\n      <th>Id</th>\n      <th>ProductId</th>\n      <th>UserId</th>\n      <th>ProfileName</th>\n      <th>HelpfulnessNumerator</th>\n      <th>HelpfulnessDenominator</th>\n      <th>Score</th>\n      <th>Time</th>\n      <th>Summary</th>\n      <th>Text</th>\n    </tr>\n  </thead>\n  <tbody>\n    <tr>\n      <th>0</th>\n      <td>1</td>\n      <td>B001E4KFG0</td>\n      <td>A3SGXH7AUHU8GW</td>\n      <td>delmartian</td>\n      <td>1</td>\n      <td>1</td>\n      <td>5</td>\n      <td>1303862400</td>\n      <td>Good Quality Dog Food</td>\n      <td>I have bought several of the Vitality canned d...</td>\n    </tr>\n    <tr>\n      <th>1</th>\n      <td>2</td>\n      <td>B00813GRG4</td>\n      <td>A1D87F6ZCVE5NK</td>\n      <td>dll pa</td>\n      <td>0</td>\n      <td>0</td>\n      <td>1</td>\n      <td>1346976000</td>\n      <td>Not as Advertised</td>\n      <td>Product arrived labeled as Jumbo Salted Peanut...</td>\n    </tr>\n    <tr>\n      <th>2</th>\n      <td>3</td>\n      <td>B000LQOCH0</td>\n      <td>ABXLMWJIXXAIN</td>\n      <td>Natalia Corres \"Natalia Corres\"</td>\n      <td>1</td>\n      <td>1</td>\n      <td>4</td>\n      <td>1219017600</td>\n      <td>\"Delight\" says it all</td>\n      <td>This is a confection that has been around a fe...</td>\n    </tr>\n    <tr>\n      <th>3</th>\n      <td>4</td>\n      <td>B000UA0QIQ</td>\n      <td>A395BORC6FGVXV</td>\n      <td>Karl</td>\n      <td>3</td>\n      <td>3</td>\n      <td>2</td>\n      <td>1307923200</td>\n      <td>Cough Medicine</td>\n      <td>If you are looking for the secret ingredient i...</td>\n    </tr>\n    <tr>\n      <th>4</th>\n      <td>5</td>\n      <td>B006K2ZZ7K</td>\n      <td>A1UQRSCLF8GW1T</td>\n      <td>Michael D. Bigham \"M. Wassir\"</td>\n      <td>0</td>\n      <td>0</td>\n      <td>5</td>\n      <td>1350777600</td>\n      <td>Great taffy</td>\n      <td>Great taffy at a great price.  There was a wid...</td>\n    </tr>\n  </tbody>\n</table>\n</div>"
          },
          "metadata": {}
        }
      ]
    },
    {
      "cell_type": "markdown",
      "source": [
        "EDA"
      ],
      "metadata": {
        "id": "XkOO0r3AMyzM"
      }
    },
    {
      "cell_type": "code",
      "source": [
        "ax = df['Score'].value_counts().sort_index() \\\n",
        "    .plot(kind='bar',\n",
        "          title='Count of Reviews by Stars',\n",
        "          figsize=(10, 5))\n",
        "ax.set_xlabel('Review Stars')\n",
        "plt.show()"
      ],
      "metadata": {
        "execution": {
          "iopub.status.busy": "2024-07-01T16:11:34.991981Z",
          "iopub.execute_input": "2024-07-01T16:11:34.992463Z",
          "iopub.status.idle": "2024-07-01T16:11:35.398563Z",
          "shell.execute_reply.started": "2024-07-01T16:11:34.99243Z",
          "shell.execute_reply": "2024-07-01T16:11:35.397054Z"
        },
        "trusted": true,
        "id": "pwFokIoIMyzO",
        "outputId": "06574bd2-b327-4c8c-de63-20e51c5d36cb"
      },
      "execution_count": null,
      "outputs": [
        {
          "output_type": "display_data",
          "data": {
            "text/plain": "<Figure size 1000x500 with 1 Axes>",
            "image/png": "[encoded data removed]"
          },
          "metadata": {}
        }
      ]
    },
    {
      "cell_type": "markdown",
      "source": [
        "Basic NLTK"
      ],
      "metadata": {
        "id": "0TMEbppcMyzO"
      }
    },
    {
      "cell_type": "code",
      "source": [
        "example = df['Text'][50]\n",
        "print(example)"
      ],
      "metadata": {
        "execution": {
          "iopub.status.busy": "2024-07-01T16:12:21.289263Z",
          "iopub.execute_input": "2024-07-01T16:12:21.289862Z",
          "iopub.status.idle": "2024-07-01T16:12:21.297585Z",
          "shell.execute_reply.started": "2024-07-01T16:12:21.289812Z",
          "shell.execute_reply": "2024-07-01T16:12:21.296233Z"
        },
        "trusted": true,
        "id": "zjicXcliMyzP",
        "outputId": "b7796c8a-df85-4244-fba9-0ac8c77b4c9b"
      },
      "execution_count": null,
      "outputs": [
        {
          "name": "stdout",
          "text": "This oatmeal is not good. Its mushy, soft, I don't like it. Quaker Oats is the way to go.\n",
          "output_type": "stream"
        }
      ]
    },
    {
      "cell_type": "code",
      "source": [
        "tokens = nltk.word_tokenize(example)\n",
        "tokens[:10]"
      ],
      "metadata": {
        "execution": {
          "iopub.status.busy": "2024-07-01T16:12:39.991222Z",
          "iopub.execute_input": "2024-07-01T16:12:39.99242Z",
          "iopub.status.idle": "2024-07-01T16:12:40.018993Z",
          "shell.execute_reply.started": "2024-07-01T16:12:39.99235Z",
          "shell.execute_reply": "2024-07-01T16:12:40.017339Z"
        },
        "trusted": true,
        "id": "to-im7xbMyzQ",
        "outputId": "8fcc4f66-551a-48f2-b992-0b51c6547dc2"
      },
      "execution_count": null,
      "outputs": [
        {
          "execution_count": 6,
          "output_type": "execute_result",
          "data": {
            "text/plain": "['This', 'oatmeal', 'is', 'not', 'good', '.', 'Its', 'mushy', ',', 'soft']"
          },
          "metadata": {}
        }
      ]
    },
    {
      "cell_type": "code",
      "source": [
        "tagged = nltk.pos_tag(tokens)\n",
        "tagged[:10]"
      ],
      "metadata": {
        "execution": {
          "iopub.status.busy": "2024-07-01T16:13:02.065375Z",
          "iopub.execute_input": "2024-07-01T16:13:02.066018Z",
          "iopub.status.idle": "2024-07-01T16:13:02.238446Z",
          "shell.execute_reply.started": "2024-07-01T16:13:02.065972Z",
          "shell.execute_reply": "2024-07-01T16:13:02.237152Z"
        },
        "trusted": true,
        "id": "ClS6pw2vMyzQ",
        "outputId": "6c461e30-6535-41d1-ec38-d7d6ea7fefce"
      },
      "execution_count": null,
      "outputs": [
        {
          "execution_count": 7,
          "output_type": "execute_result",
          "data": {
            "text/plain": "[('This', 'DT'),\n ('oatmeal', 'NN'),\n ('is', 'VBZ'),\n ('not', 'RB'),\n ('good', 'JJ'),\n ('.', '.'),\n ('Its', 'PRP$'),\n ('mushy', 'NN'),\n (',', ','),\n ('soft', 'JJ')]"
          },
          "metadata": {}
        }
      ]
    },
    {
      "cell_type": "code",
      "source": [
        "entities = nltk.chunk.ne_chunk(tagged)\n",
        "entities.pprint()"
      ],
      "metadata": {
        "execution": {
          "iopub.status.busy": "2024-07-01T16:13:17.643129Z",
          "iopub.execute_input": "2024-07-01T16:13:17.643699Z",
          "iopub.status.idle": "2024-07-01T16:13:17.809105Z",
          "shell.execute_reply.started": "2024-07-01T16:13:17.643655Z",
          "shell.execute_reply": "2024-07-01T16:13:17.807876Z"
        },
        "trusted": true,
        "id": "LUT2ohY5MyzR",
        "outputId": "788c4ccb-a2b2-4d4b-ddce-2f6940e38d71"
      },
      "execution_count": null,
      "outputs": [
        {
          "name": "stdout",
          "text": "(S\n  This/DT\n  oatmeal/NN\n  is/VBZ\n  not/RB\n  good/JJ\n  ./.\n  Its/PRP$\n  mushy/NN\n  ,/,\n  soft/JJ\n  ,/,\n  I/PRP\n  do/VBP\n  n't/RB\n  like/VB\n  it/PRP\n  ./.\n  (ORGANIZATION Quaker/NNP Oats/NNPS)\n  is/VBZ\n  the/DT\n  way/NN\n  to/TO\n  go/VB\n  ./.)\n",
          "output_type": "stream"
        }
      ]
    },
    {
      "cell_type": "markdown",
      "source": [
        "# Step 1. VADER Seniment Scoring\n",
        "We will use NLTK's SentimentIntensityAnalyzer to get the neg/neu/pos scores of the text.\n",
        "\n",
        "This uses a \"bag of words\" approach:\n",
        "1.Stop words are removed\n",
        "2.each word is scored and combined to a total score."
      ],
      "metadata": {
        "id": "-o2Uj-SAMyzR"
      }
    },
    {
      "cell_type": "code",
      "source": [
        "from nltk.sentiment import SentimentIntensityAnalyzer\n",
        "from tqdm.notebook import tqdm\n",
        "\n",
        "sia = SentimentIntensityAnalyzer()"
      ],
      "metadata": {
        "execution": {
          "iopub.status.busy": "2024-07-01T16:18:03.845134Z",
          "iopub.execute_input": "2024-07-01T16:18:03.845614Z",
          "iopub.status.idle": "2024-07-01T16:18:03.8634Z",
          "shell.execute_reply.started": "2024-07-01T16:18:03.845573Z",
          "shell.execute_reply": "2024-07-01T16:18:03.861904Z"
        },
        "trusted": true,
        "id": "ueuYv1L_MyzS"
      },
      "execution_count": null,
      "outputs": []
    },
    {
      "cell_type": "code",
      "source": [
        "sia.polarity_scores('I am so happy!')"
      ],
      "metadata": {
        "execution": {
          "iopub.status.busy": "2024-07-01T16:18:36.389341Z",
          "iopub.execute_input": "2024-07-01T16:18:36.389964Z",
          "iopub.status.idle": "2024-07-01T16:18:36.400202Z",
          "shell.execute_reply.started": "2024-07-01T16:18:36.389923Z",
          "shell.execute_reply": "2024-07-01T16:18:36.398662Z"
        },
        "trusted": true,
        "id": "Iu-QjWsaMyzS",
        "outputId": "b4e6d7ff-e692-4158-898e-c37057a47363"
      },
      "execution_count": null,
      "outputs": [
        {
          "execution_count": 13,
          "output_type": "execute_result",
          "data": {
            "text/plain": "{'neg': 0.0, 'neu': 0.318, 'pos': 0.682, 'compound': 0.6468}"
          },
          "metadata": {}
        }
      ]
    },
    {
      "cell_type": "code",
      "source": [
        "sia.polarity_scores('This is the worst thing ever.')"
      ],
      "metadata": {
        "execution": {
          "iopub.status.busy": "2024-07-01T16:18:54.587488Z",
          "iopub.execute_input": "2024-07-01T16:18:54.588086Z",
          "iopub.status.idle": "2024-07-01T16:18:54.597716Z",
          "shell.execute_reply.started": "2024-07-01T16:18:54.588044Z",
          "shell.execute_reply": "2024-07-01T16:18:54.596021Z"
        },
        "trusted": true,
        "id": "OTTnmIZWMyzT",
        "outputId": "8247141a-fd04-4fe3-94c2-9f3f5e63c59a"
      },
      "execution_count": null,
      "outputs": [
        {
          "execution_count": 14,
          "output_type": "execute_result",
          "data": {
            "text/plain": "{'neg': 0.451, 'neu': 0.549, 'pos': 0.0, 'compound': -0.6249}"
          },
          "metadata": {}
        }
      ]
    },
    {
      "cell_type": "code",
      "source": [
        "# Run the polarity score on the entire dataset\n",
        "res = {}\n",
        "for i, row in tqdm(df.iterrows(), total=len(df)):\n",
        "    text = row['Text']\n",
        "    myid = row['Id']\n",
        "    res[myid] = sia.polarity_scores(text)"
      ],
      "metadata": {
        "execution": {
          "iopub.status.busy": "2024-07-01T16:19:13.150638Z",
          "iopub.execute_input": "2024-07-01T16:19:13.151245Z",
          "iopub.status.idle": "2024-07-01T16:19:13.86605Z",
          "shell.execute_reply.started": "2024-07-01T16:19:13.151203Z",
          "shell.execute_reply": "2024-07-01T16:19:13.864662Z"
        },
        "trusted": true,
        "id": "EC1_xenfMyzT",
        "outputId": "d2e08bd8-71cb-4a22-fba5-2366848c3589",
        "colab": {
          "referenced_widgets": [
            "8231737f86c24fd5868f3c7d391ec0e5"
          ]
        }
      },
      "execution_count": null,
      "outputs": [
        {
          "output_type": "display_data",
          "data": {
            "text/plain": "  0%|          | 0/500 [00:00<?, ?it/s]",
            "application/vnd.jupyter.widget-view+json": {
              "version_major": 2,
              "version_minor": 0,
              "model_id": "8231737f86c24fd5868f3c7d391ec0e5"
            }
          },
          "metadata": {}
        }
      ]
    },
    {
      "cell_type": "code",
      "source": [
        "vaders = pd.DataFrame(res).T\n",
        "vaders = vaders.reset_index().rename(columns={'index': 'Id'})\n",
        "vaders = vaders.merge(df, how='left')"
      ],
      "metadata": {
        "execution": {
          "iopub.status.busy": "2024-07-01T16:19:31.201252Z",
          "iopub.execute_input": "2024-07-01T16:19:31.201698Z",
          "iopub.status.idle": "2024-07-01T16:19:31.239976Z",
          "shell.execute_reply.started": "2024-07-01T16:19:31.201657Z",
          "shell.execute_reply": "2024-07-01T16:19:31.238121Z"
        },
        "trusted": true,
        "id": "xJ8C01flMyzT"
      },
      "execution_count": null,
      "outputs": []
    },
    {
      "cell_type": "code",
      "source": [
        "vaders.head()"
      ],
      "metadata": {
        "execution": {
          "iopub.status.busy": "2024-07-01T16:19:45.352095Z",
          "iopub.execute_input": "2024-07-01T16:19:45.352561Z",
          "iopub.status.idle": "2024-07-01T16:19:45.374278Z",
          "shell.execute_reply.started": "2024-07-01T16:19:45.352523Z",
          "shell.execute_reply": "2024-07-01T16:19:45.373172Z"
        },
        "trusted": true,
        "id": "2y5YCx1AMyzU",
        "outputId": "8188aa6c-4547-480c-9ade-a59453d0eb3f"
      },
      "execution_count": null,
      "outputs": [
        {
          "execution_count": 17,
          "output_type": "execute_result",
          "data": {
            "text/plain": "   Id    neg    neu    pos  compound   ProductId          UserId  \\\n0   1  0.000  0.695  0.305    0.9441  B001E4KFG0  A3SGXH7AUHU8GW   \n1   2  0.079  0.853  0.068   -0.1027  B00813GRG4  A1D87F6ZCVE5NK   \n2   3  0.091  0.754  0.155    0.8265  B000LQOCH0   ABXLMWJIXXAIN   \n3   4  0.000  1.000  0.000    0.0000  B000UA0QIQ  A395BORC6FGVXV   \n4   5  0.000  0.552  0.448    0.9468  B006K2ZZ7K  A1UQRSCLF8GW1T   \n\n                       ProfileName  HelpfulnessNumerator  \\\n0                       delmartian                     1   \n1                           dll pa                     0   \n2  Natalia Corres \"Natalia Corres\"                     1   \n3                             Karl                     3   \n4    Michael D. Bigham \"M. Wassir\"                     0   \n\n   HelpfulnessDenominator  Score        Time                Summary  \\\n0                       1      5  1303862400  Good Quality Dog Food   \n1                       0      1  1346976000      Not as Advertised   \n2                       1      4  1219017600  \"Delight\" says it all   \n3                       3      2  1307923200         Cough Medicine   \n4                       0      5  1350777600            Great taffy   \n\n                                                Text  \n0  I have bought several of the Vitality canned d...  \n1  Product arrived labeled as Jumbo Salted Peanut...  \n2  This is a confection that has been around a fe...  \n3  If you are looking for the secret ingredient i...  \n4  Great taffy at a great price.  There was a wid...  ",
            "text/html": "<div>\n<style scoped>\n    .dataframe tbody tr th:only-of-type {\n        vertical-align: middle;\n    }\n\n    .dataframe tbody tr th {\n        vertical-align: top;\n    }\n\n    .dataframe thead th {\n        text-align: right;\n    }\n</style>\n<table border=\"1\" class=\"dataframe\">\n  <thead>\n    <tr style=\"text-align: right;\">\n      <th></th>\n      <th>Id</th>\n      <th>neg</th>\n      <th>neu</th>\n      <th>pos</th>\n      <th>compound</th>\n      <th>ProductId</th>\n      <th>UserId</th>\n      <th>ProfileName</th>\n      <th>HelpfulnessNumerator</th>\n      <th>HelpfulnessDenominator</th>\n      <th>Score</th>\n      <th>Time</th>\n      <th>Summary</th>\n      <th>Text</th>\n    </tr>\n  </thead>\n  <tbody>\n    <tr>\n      <th>0</th>\n      <td>1</td>\n      <td>0.000</td>\n      <td>0.695</td>\n      <td>0.305</td>\n      <td>0.9441</td>\n      <td>B001E4KFG0</td>\n      <td>A3SGXH7AUHU8GW</td>\n      <td>delmartian</td>\n      <td>1</td>\n      <td>1</td>\n      <td>5</td>\n      <td>1303862400</td>\n      <td>Good Quality Dog Food</td>\n      <td>I have bought several of the Vitality canned d...</td>\n    </tr>\n    <tr>\n      <th>1</th>\n      <td>2</td>\n      <td>0.079</td>\n      <td>0.853</td>\n      <td>0.068</td>\n      <td>-0.1027</td>\n      <td>B00813GRG4</td>\n      <td>A1D87F6ZCVE5NK</td>\n      <td>dll pa</td>\n      <td>0</td>\n      <td>0</td>\n      <td>1</td>\n      <td>1346976000</td>\n      <td>Not as Advertised</td>\n      <td>Product arrived labeled as Jumbo Salted Peanut...</td>\n    </tr>\n    <tr>\n      <th>2</th>\n      <td>3</td>\n      <td>0.091</td>\n      <td>0.754</td>\n      <td>0.155</td>\n      <td>0.8265</td>\n      <td>B000LQOCH0</td>\n      <td>ABXLMWJIXXAIN</td>\n      <td>Natalia Corres \"Natalia Corres\"</td>\n      <td>1</td>\n      <td>1</td>\n      <td>4</td>\n      <td>1219017600</td>\n      <td>\"Delight\" says it all</td>\n      <td>This is a confection that has been around a fe...</td>\n    </tr>\n    <tr>\n      <th>3</th>\n      <td>4</td>\n      <td>0.000</td>\n      <td>1.000</td>\n      <td>0.000</td>\n      <td>0.0000</td>\n      <td>B000UA0QIQ</td>\n      <td>A395BORC6FGVXV</td>\n      <td>Karl</td>\n      <td>3</td>\n      <td>3</td>\n      <td>2</td>\n      <td>1307923200</td>\n      <td>Cough Medicine</td>\n      <td>If you are looking for the secret ingredient i...</td>\n    </tr>\n    <tr>\n      <th>4</th>\n      <td>5</td>\n      <td>0.000</td>\n      <td>0.552</td>\n      <td>0.448</td>\n      <td>0.9468</td>\n      <td>B006K2ZZ7K</td>\n      <td>A1UQRSCLF8GW1T</td>\n      <td>Michael D. Bigham \"M. Wassir\"</td>\n      <td>0</td>\n      <td>0</td>\n      <td>5</td>\n      <td>1350777600</td>\n      <td>Great taffy</td>\n      <td>Great taffy at a great price.  There was a wid...</td>\n    </tr>\n  </tbody>\n</table>\n</div>"
          },
          "metadata": {}
        }
      ]
    },
    {
      "cell_type": "markdown",
      "source": [
        "**Plot VADER results**"
      ],
      "metadata": {
        "id": "zAeG_1wIMyzU"
      }
    },
    {
      "cell_type": "code",
      "source": [
        "ax = sns.barplot(data=vaders, x='Score', y='compound')\n",
        "ax.set_title('Compund Score by Amazon Star Review')\n",
        "plt.show()"
      ],
      "metadata": {
        "execution": {
          "iopub.status.busy": "2024-07-01T16:20:28.349201Z",
          "iopub.execute_input": "2024-07-01T16:20:28.349775Z",
          "iopub.status.idle": "2024-07-01T16:20:28.781127Z",
          "shell.execute_reply.started": "2024-07-01T16:20:28.349736Z",
          "shell.execute_reply": "2024-07-01T16:20:28.779758Z"
        },
        "trusted": true,
        "id": "L04PCTbqMyzU",
        "outputId": "1616d33b-be01-4777-bc47-9ceb77be306a"
      },
      "execution_count": null,
      "outputs": [
        {
          "output_type": "display_data",
          "data": {
            "text/plain": "<Figure size 640x480 with 1 Axes>",
            "image/png": "[encoded data removed]"
          },
          "metadata": {}
        }
      ]
    },
    {
      "cell_type": "code",
      "source": [
        "fig, axs = plt.subplots(1, 3, figsize=(12, 3))\n",
        "sns.barplot(data=vaders, x='Score', y='pos', ax=axs[0])\n",
        "sns.barplot(data=vaders, x='Score', y='neu', ax=axs[1])\n",
        "sns.barplot(data=vaders, x='Score', y='neg', ax=axs[2])\n",
        "axs[0].set_title('Positive')\n",
        "axs[1].set_title('Neutral')\n",
        "axs[2].set_title('Negative')\n",
        "plt.tight_layout()\n",
        "plt.show()"
      ],
      "metadata": {
        "execution": {
          "iopub.status.busy": "2024-07-01T16:20:46.123065Z",
          "iopub.execute_input": "2024-07-01T16:20:46.123514Z",
          "iopub.status.idle": "2024-07-01T16:20:47.244389Z",
          "shell.execute_reply.started": "2024-07-01T16:20:46.123475Z",
          "shell.execute_reply": "2024-07-01T16:20:47.243181Z"
        },
        "trusted": true,
        "id": "CZtbkZTfMyzU",
        "outputId": "d588964f-be1b-4b32-8a3c-e35a654040ec"
      },
      "execution_count": null,
      "outputs": [
        {
          "output_type": "display_data",
          "data": {
            "text/plain": "<Figure size 1200x300 with 3 Axes>",
            "image/png": "[encoded data removed]"
          },
          "metadata": {}
        }
      ]
    },
    {
      "cell_type": "code",
      "source": [],
      "metadata": {
        "id": "eSeH8U7KMyzU"
      },
      "execution_count": null,
      "outputs": []
    },
    {
      "cell_type": "code",
      "source": [],
      "metadata": {
        "id": "JkkfORb5MyzV"
      },
      "execution_count": null,
      "outputs": []
    },
    {
      "cell_type": "code",
      "source": [],
      "metadata": {
        "id": "hLh833LpMyzV"
      },
      "execution_count": null,
      "outputs": []
    },
    {
      "cell_type": "code",
      "source": [],
      "metadata": {
        "id": "Y66fd-FBMyzV"
      },
      "execution_count": null,
      "outputs": []
    },
    {
      "cell_type": "code",
      "source": [],
      "metadata": {
        "id": "DRTvlrSHMyzV"
      },
      "execution_count": null,
      "outputs": []
    },
    {
      "cell_type": "code",
      "source": [],
      "metadata": {
        "id": "Wp5r4LasMyzV"
      },
      "execution_count": null,
      "outputs": []
    },
    {
      "cell_type": "code",
      "source": [],
      "metadata": {
        "id": "BTKvnMM2MyzV"
      },
      "execution_count": null,
      "outputs": []
    }
  ]
}